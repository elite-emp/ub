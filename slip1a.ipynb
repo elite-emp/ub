{
 "cells": [
  {
   "cell_type": "code",
   "execution_count": 1,
   "id": "90ee61f6",
   "metadata": {},
   "outputs": [
    {
     "name": "stdout",
     "output_type": "stream",
     "text": [
      "The maximum point is at x = 2.0000000000000004 with a value of 4.0\n"
     ]
    }
   ],
   "source": [
    "import math\n",
    "def f(x):\n",
    "    return -x**2 + 4*x\n",
    "def hill_climbing():\n",
    "    x = 0  \n",
    "    step_size = 0.1  \n",
    "\n",
    "    while True:\n",
    "        current = f(x)\n",
    "        right = f(x + step_size)\n",
    "        left = f(x - step_size)\n",
    "\n",
    "        if right > current:\n",
    "            x = x + step_size\n",
    "        elif left > current:\n",
    "            x = x - step_size\n",
    "        else:\n",
    "            break\n",
    "\n",
    "    return x, f(x)\n",
    "\n",
    "maximum_point, maximum_value = hill_climbing()\n",
    "\n",
    "\n",
    "print(f\"The maximum point is at x = {maximum_point} with a value of {maximum_value}\")\n"
   ]
  },
  {
   "cell_type": "code",
   "execution_count": null,
   "id": "13386aaf",
   "metadata": {},
   "outputs": [],
   "source": []
  }
 ],
 "metadata": {
  "kernelspec": {
   "display_name": "Python 3 (ipykernel)",
   "language": "python",
   "name": "python3"
  },
  "language_info": {
   "codemirror_mode": {
    "name": "ipython",
    "version": 3
   },
   "file_extension": ".py",
   "mimetype": "text/x-python",
   "name": "python",
   "nbconvert_exporter": "python",
   "pygments_lexer": "ipython3",
   "version": "3.10.12"
  }
 },
 "nbformat": 4,
 "nbformat_minor": 5
}
