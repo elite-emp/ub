{
 "cells": [
  {
   "cell_type": "code",
   "execution_count": null,
   "id": "18f1c054",
   "metadata": {},
   "outputs": [],
   "source": [
    "graph = {\n",
    "    '1': ['2', '3'],\n",
    "    '2': ['4', '5'],\n",
    "    '3': ['6', '7'],\n",
    "    '4': ['8'],\n",
    "    '5': ['8'],\n",
    "    '6': ['8'],\n",
    "    '7': ['8'],\n",
    "}\n",
    "def BFS(graph, s, goal):\n",
    "    visited = []\n",
    "    queue = [[s]]\n",
    "    \n",
    "    if s == goal:\n",
    "        return \"Start node is goal!\"\n",
    "    while queue:\n",
    "        path = queue.pop(0)\n",
    "        node = path[-1]\n",
    "        \n",
    "        if node not in visited:\n",
    "            ns = graph[node]\n",
    "            for n in ns:\n",
    "                new_path = list(path)\n",
    "                new_path.append(n)\n",
    "                queue.append(new_path)\n",
    "                \n",
    "                if n == goal:\n",
    "                    return new_path\n",
    "                \n",
    "            visited.append(node)\n",
    "            \n",
    "    return \"Goal node not reachable\"\n",
    "start_node = '1'\n",
    "goal_node = '8'\n",
    "\n",
    "result = BFS(graph, start_node, goal_node)\n",
    "print(\"\\n BFS Path\",result)"
   ]
  }
 ],
 "metadata": {
  "kernelspec": {
   "display_name": "Python 3 (ipykernel)",
   "language": "python",
   "name": "python3"
  },
  "language_info": {
   "codemirror_mode": {
    "name": "ipython",
    "version": 3
   },
   "file_extension": ".py",
   "mimetype": "text/x-python",
   "name": "python",
   "nbconvert_exporter": "python",
   "pygments_lexer": "ipython3",
   "version": "3.10.12"
  }
 },
 "nbformat": 4,
 "nbformat_minor": 5
}
