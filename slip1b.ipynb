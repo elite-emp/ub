{
 "cells": [
  {
   "cell_type": "code",
   "execution_count": 1,
   "id": "d00b70ea",
   "metadata": {},
   "outputs": [
    {
     "name": "stdout",
     "output_type": "stream",
     "text": [
      "Depth First Search path:\n",
      "1 3 7 8 \n",
      "Goal node found!\n"
     ]
    }
   ],
   "source": [
    "visited = []\n",
    "graph = {\n",
    "    '1': ['3', '2'],\n",
    "    '2': ['5', '4'],\n",
    "    '3': ['7', '6'],\n",
    "    '4': ['8'],\n",
    "    '5': ['8'],\n",
    "    '6': ['8'],\n",
    "    '7': ['8'],\n",
    "}\n",
    "\n",
    "def DFS(graph, visited, s, goal):\n",
    "    visited.append(s)\n",
    "    print(s, end=' ')\n",
    "    \n",
    "    if s == goal:\n",
    "        return True\n",
    "    \n",
    "    for k in graph[s]:\n",
    "        if k not in visited:\n",
    "            if DFS(graph, visited, k, goal):\n",
    "                return True\n",
    "    \n",
    "    return False\n",
    "\n",
    "start_node = '1'\n",
    "goal_node = '8'\n",
    "\n",
    "print(\"Depth First Search path:\")\n",
    "if DFS(graph, visited, start_node, goal_node):\n",
    "    print(\"\\nGoal node found!\")\n",
    "else:\n",
    "    print(\"\\nGoal node not reachable from the start node.\")\n"
   ]
  },
  {
   "cell_type": "code",
   "execution_count": null,
   "id": "5f2e5432",
   "metadata": {},
   "outputs": [],
   "source": []
  }
 ],
 "metadata": {
  "kernelspec": {
   "display_name": "Python 3 (ipykernel)",
   "language": "python",
   "name": "python3"
  },
  "language_info": {
   "codemirror_mode": {
    "name": "ipython",
    "version": 3
   },
   "file_extension": ".py",
   "mimetype": "text/x-python",
   "name": "python",
   "nbconvert_exporter": "python",
   "pygments_lexer": "ipython3",
   "version": "3.10.12"
  }
 },
 "nbformat": 4,
 "nbformat_minor": 5
}
