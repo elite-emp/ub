{
 "cells": [
  {
   "cell_type": "code",
   "execution_count": 1,
   "id": "d854beac",
   "metadata": {},
   "outputs": [
    {
     "name": "stdout",
     "output_type": "stream",
     "text": [
      "The game is ongoing.\n"
     ]
    }
   ],
   "source": [
    "def check_winner(board):\n",
    "    \n",
    "    for i in range(3):\n",
    "        if board[i][0] == board[i][1] == board[i][2] != ' ':\n",
    "            return board[i][0]  \n",
    "        if board[0][i] == board[1][i] == board[2][i] != ' ':\n",
    "            return board[0][i] \n",
    "\n",
    "    if board[0][0] == board[1][1] == board[2][2] != ' ':\n",
    "        return board[0][0]  \n",
    "    if board[0][2] == board[1][1] == board[2][0] != ' ':\n",
    "        return board[0][2]  \n",
    "\n",
    "    return None  \n",
    "\n",
    "def is_board_full(board):\n",
    "   \n",
    "    for row in board:\n",
    "        for cell in row:\n",
    "            if cell == ' ':\n",
    "                return False   \n",
    "    return True   \n",
    "\n",
    "def solve_tic_tac_toe(board):\n",
    "    winner = check_winner(board)\n",
    "    if winner:\n",
    "        return f\"The winner is {winner}!\"\n",
    "    \n",
    "    if is_board_full(board):\n",
    "        return \"It's a draw!\"\n",
    "\n",
    "    return \"The game is ongoing.\"\n",
    "example_board = [\n",
    "    ['X', 'O', 'X'],\n",
    "    [' ', 'O', ' '],\n",
    "    ['X', ' ', 'O']\n",
    "]\n",
    "solution = solve_tic_tac_toe(example_board)\n",
    "print(solution)\n"
   ]
  },
  {
   "cell_type": "code",
   "execution_count": null,
   "id": "ee28a88d",
   "metadata": {},
   "outputs": [],
   "source": []
  }
 ],
 "metadata": {
  "kernelspec": {
   "display_name": "Python 3 (ipykernel)",
   "language": "python",
   "name": "python3"
  },
  "language_info": {
   "codemirror_mode": {
    "name": "ipython",
    "version": 3
   },
   "file_extension": ".py",
   "mimetype": "text/x-python",
   "name": "python",
   "nbconvert_exporter": "python",
   "pygments_lexer": "ipython3",
   "version": "3.10.12"
  }
 },
 "nbformat": 4,
 "nbformat_minor": 5
}
