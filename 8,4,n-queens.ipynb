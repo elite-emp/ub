{
 "cells": [
  {
   "cell_type": "code",
   "execution_count": null,
   "id": "839450dc",
   "metadata": {},
   "outputs": [],
   "source": [
    "def is_safe(board, row, col):\n",
    "    \n",
    "    for i in range(row):\n",
    "        if board[i][col] == 1:\n",
    "            return False\n",
    "\n",
    "   \n",
    "    for i, j in zip(range(row, -1, -1), range(col, -1, -1)):\n",
    "        if board[i][j] == 1:\n",
    "            return False\n",
    "\n",
    "   \n",
    "    for i, j in zip(range(row, -1, -1), range(col, len(board))):\n",
    "        if board[i][j] == 1:\n",
    "            return False\n",
    "\n",
    "    return True\n",
    "\n",
    "def solve_queens(board, row):\n",
    "    \n",
    "    if row == len(board):\n",
    "        return True\n",
    "\n",
    "    for col in range(len(board)):\n",
    "        if is_safe(board, row, col):\n",
    "            board[row][col] = 1  \n",
    "\n",
    "           \n",
    "            if solve_queens(board, row + 1):\n",
    "                return True\n",
    "\n",
    "           \n",
    "            board[row][col] = 0  \n",
    "\n",
    "    return False\n",
    "\n",
    "def print_solution(board):\n",
    "    for row in board:\n",
    "        print(' '.join(map(str, row)))\n",
    "\n",
    "def solve_4_queens():\n",
    "    board = [[0] * n for _ in range(n)]\n",
    "\n",
    "    if not solve_queens(board, 0):\n",
    "        print(\"Solution does not exist.\")\n",
    "        return\n",
    "\n",
    "    print(\"Solution for the 4-Queens problem:\")\n",
    "    print_solution(board)\n",
    "solve_n_queens(4)\n"
   ]
  }
 ],
 "metadata": {
  "kernelspec": {
   "display_name": "Python 3 (ipykernel)",
   "language": "python",
   "name": "python3"
  },
  "language_info": {
   "codemirror_mode": {
    "name": "ipython",
    "version": 3
   },
   "file_extension": ".py",
   "mimetype": "text/x-python",
   "name": "python",
   "nbconvert_exporter": "python",
   "pygments_lexer": "ipython3",
   "version": "3.10.12"
  }
 },
 "nbformat": 4,
 "nbformat_minor": 5
}
