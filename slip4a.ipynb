{
 "cells": [
  {
   "cell_type": "code",
   "execution_count": null,
   "id": "9fc0365e",
   "metadata": {},
   "outputs": [],
   "source": [
    "import random\n",
    "\n",
    "def choose_word():\n",
    "    words = ['apple', 'banana', 'orange', 'grape', 'kiwi', 'melon', 'peach', 'strawberry', 'pineapple', 'blueberry']\n",
    "    return random.choice(words)\n",
    "\n",
    "def display_word(word, guessed_letters):\n",
    " \n",
    "    display = ''\n",
    "    for letter in word:\n",
    "        if letter in guessed_letters:\n",
    "            display += letter + ' '\n",
    "        else:\n",
    "            display += '_ '\n",
    "    return display\n",
    "\n",
    "def hangman():\n",
    "    print(\"Welcome to Hangman!\")\n",
    "    word_to_guess = choose_word()\n",
    "    guessed_letters = []\n",
    "    attempts = 6 \n",
    "\n",
    "    while attempts > 0:\n",
    "        print(\"\\nAttempts left:\", attempts)\n",
    "        display = display_word(word_to_guess, guessed_letters)\n",
    "        print(\"Word to guess:\", display)\n",
    "\n",
    "        guess = input(\"Guess a letter: \").lower()\n",
    "\n",
    "        if len(guess) != 1 or not guess.isalpha():\n",
    "            print(\"Please enter a single alphabet.\")\n",
    "            continue\n",
    "\n",
    "        if guess in guessed_letters:\n",
    "            print(\"You've already guessed that letter.\")\n",
    "            continue\n",
    "\n",
    "        guessed_letters.append(guess)\n",
    "\n",
    "        if guess not in word_to_guess:\n",
    "            print(\"Incorrect guess!\")\n",
    "            attempts -= 1\n",
    "\n",
    "        if '_' not in display_word(word_to_guess, guessed_letters):\n",
    "            print(\"\\nCongratulations! You've guessed the word:\", word_to_guess)\n",
    "            break\n",
    "\n",
    "    if attempts == 0:\n",
    "        print(\"\\nSorry, you're out of attempts. The word was:\", word_to_guess)\n",
    "\n",
    "\n",
    "hangman()\n"
   ]
  }
 ],
 "metadata": {
  "kernelspec": {
   "display_name": "Python 3 (ipykernel)",
   "language": "python",
   "name": "python3"
  },
  "language_info": {
   "codemirror_mode": {
    "name": "ipython",
    "version": 3
   },
   "file_extension": ".py",
   "mimetype": "text/x-python",
   "name": "python",
   "nbconvert_exporter": "python",
   "pygments_lexer": "ipython3",
   "version": "3.10.12"
  }
 },
 "nbformat": 4,
 "nbformat_minor": 5
}
