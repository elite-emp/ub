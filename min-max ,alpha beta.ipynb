{
 "cells": [
  {
   "cell_type": "code",
   "execution_count": 1,
   "id": "a5427d47",
   "metadata": {},
   "outputs": [
    {
     "name": "stdout",
     "output_type": "stream",
     "text": [
      "The best move for 'X' is: (0, 0)\n"
     ]
    }
   ],
   "source": [
    "import math\n",
    "\n",
    "def minimax(board, depth, is_maximizing):\n",
    "    \n",
    "    score = evaluate(board)\n",
    "\n",
    "    \n",
    "    if score != 0 or depth == 0:\n",
    "        return score\n",
    "\n",
    "    if is_maximizing:\n",
    "        max_eval = float('-inf')\n",
    "        for i in range(len(board)):\n",
    "            for j in range(len(board[i])):\n",
    "                if board[i][j] == '-':   \n",
    "                    board[i][j] = 'X' if is_maximizing else 'O'\n",
    "                    eval = minimax(board, depth - 1, False)\n",
    "                    board[i][j] = '-'   \n",
    "                    max_eval = max(max_eval, eval)\n",
    "        return max_eval\n",
    "    else:\n",
    "        min_eval = float('inf')\n",
    "        for i in range(len(board)):\n",
    "            for j in range(len(board[i])):\n",
    "                if board[i][j] == '-':  \n",
    "                    board[i][j] = 'X' if is_maximizing else 'O'\n",
    "                    eval = minimax(board, depth - 1, True)\n",
    "                    board[i][j] = '-'   \n",
    "                    min_eval = min(min_eval, eval)\n",
    "        return min_eval\n",
    "\n",
    "def evaluate(board):\n",
    "     \n",
    "    score = 0\n",
    "    return score\n",
    "\n",
    "def get_best_move(board):\n",
    "    best_eval = float('-inf')\n",
    "    best_move = (-1, -1)\n",
    "\n",
    "    for i in range(len(board)):\n",
    "        for j in range(len(board[i])):\n",
    "            if board[i][j] == '-': \n",
    "                board[i][j] = 'X'   \n",
    "                eval = minimax(board, math.inf, False)\n",
    "                board[i][j] = '-'   \n",
    "\n",
    "                if eval > best_eval:\n",
    "                    best_eval = eval\n",
    "                    best_move = (i, j)\n",
    "\n",
    "    return best_move\n",
    "\n",
    "example_board = [\n",
    "    ['-', '-', '-'],\n",
    "    ['-', '-', '-'],\n",
    "    ['-', '-', '-']\n",
    "]\n",
    "\n",
    " \n",
    "best_move = get_best_move(example_board)\n",
    "print(f\"The best move for 'X' is: {best_move}\")\n"
   ]
  },
  {
   "cell_type": "code",
   "execution_count": null,
   "id": "67b08fda",
   "metadata": {},
   "outputs": [],
   "source": []
  }
 ],
 "metadata": {
  "kernelspec": {
   "display_name": "Python 3 (ipykernel)",
   "language": "python",
   "name": "python3"
  },
  "language_info": {
   "codemirror_mode": {
    "name": "ipython",
    "version": 3
   },
   "file_extension": ".py",
   "mimetype": "text/x-python",
   "name": "python",
   "nbconvert_exporter": "python",
   "pygments_lexer": "ipython3",
   "version": "3.10.12"
  }
 },
 "nbformat": 4,
 "nbformat_minor": 5
}
